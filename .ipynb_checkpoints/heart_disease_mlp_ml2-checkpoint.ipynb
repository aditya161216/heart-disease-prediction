{
 "cells": [
  {
   "cell_type": "code",
   "execution_count": 68,
   "id": "02595e5b-ec20-49d3-9207-821e819c4951",
   "metadata": {},
   "outputs": [],
   "source": [
    "import numpy as np\n",
    "import pandas as pd\n",
    "from sklearn.model_selection import train_test_split\n",
    "from sklearn.preprocessing import StandardScaler"
   ]
  },
  {
   "cell_type": "markdown",
   "id": "1dab95a2-faae-4eae-b303-36aac8a38120",
   "metadata": {},
   "source": [
    "## Clean/preprocess the data"
   ]
  },
  {
   "cell_type": "code",
   "execution_count": 69,
   "id": "87c3a71d-f6b8-488e-bf43-0215a8c4f619",
   "metadata": {},
   "outputs": [
    {
     "name": "stdout",
     "output_type": "stream",
     "text": [
      "Final shape of dataset: (11621, 36)\n",
      "Total missing values: 0\n"
     ]
    }
   ],
   "source": [
    "df = pd.read_csv(\"Framingham Dataset.csv\")\n",
    "\n",
    "# first we drop columns with more than 50% missing values\n",
    "missing_values = df.isnull().sum()\n",
    "missing_percentage = (missing_values / len(df)) * 100\n",
    "columns_to_drop = missing_percentage[missing_percentage > 50].index.tolist()\n",
    "cleaned_df = df.drop(columns=columns_to_drop)\n",
    "\n",
    "# next we replace numerical columns with the median\n",
    "numerical_columns = ['TOTCHOL', 'GLUCOSE', 'BMI']\n",
    "for col in numerical_columns:\n",
    "    median_value = cleaned_df[col].median()\n",
    "    cleaned_df[col] = cleaned_df[col].fillna(median_value)\n",
    "\n",
    "# we replace binary/categorical columns with the mode\n",
    "categorical_columns = ['BPMEDS']\n",
    "for col in categorical_columns:\n",
    "    mode_value = cleaned_df[col].mode()[0]\n",
    "    cleaned_df[col] = cleaned_df[col].fillna(mode_value)\n",
    "\n",
    "# modify CIGPDAY (number of cigarettes smoked per day)\n",
    "condition = (cleaned_df['CIGPDAY'].isnull()) & (cleaned_df['CURSMOKE'] == 0)\n",
    "cleaned_df.loc[condition, 'CIGPDAY'] = 0\n",
    "\n",
    "median_cigpday = cleaned_df['CIGPDAY'].median()\n",
    "cleaned_df['CIGPDAY'] = cleaned_df['CIGPDAY'].fillna(median_cigpday)\n",
    "\n",
    "\n",
    "# we drop the 'educ' column because it it mostly a socioeconomic feature with low predictive power\n",
    "# won't affect our outcome too much\n",
    "cleaned_df.drop(columns=['educ'], inplace=True)\n",
    "\n",
    "# drop rows with missing HEARTRTE (rather just drop these rows than computing the median, because its only 6 rows)\n",
    "cleaned_df.dropna(subset=['HEARTRTE'], inplace=True)\n",
    "\n",
    "print(f\"Final shape of dataset: {cleaned_df.shape}\")\n",
    "print(f\"Total missing values: {cleaned_df.isnull().sum().sum()}\")\n"
   ]
  },
  {
   "cell_type": "code",
   "execution_count": 70,
   "id": "5ddec932-29b4-4325-95bf-5b8fba0b625f",
   "metadata": {},
   "outputs": [
    {
     "name": "stdout",
     "output_type": "stream",
     "text": [
      "   RANDID  SEX  TOTCHOL  AGE  SYSBP  DIABP  CURSMOKE  CIGPDAY    BMI  \\\n",
      "0    2448    1    195.0   39  106.0   70.0         0      0.0  26.97   \n",
      "1    2448    1    209.0   52  121.0   66.0         0      0.0  25.48   \n",
      "2    6238    2    250.0   46  121.0   81.0         0      0.0  28.73   \n",
      "3    6238    2    260.0   52  105.0   69.5         0      0.0  29.43   \n",
      "4    6238    2    237.0   58  108.0   66.0         0      0.0  28.50   \n",
      "\n",
      "   DIABETES  ...  CVD  HYPERTEN  TIMEAP  TIMEMI  TIMEMIFC  TIMECHD  TIMESTRK  \\\n",
      "0         0  ...    1         0    8766    6438      6438     6438      8766   \n",
      "1         0  ...    1         0    8766    6438      6438     6438      8766   \n",
      "2         0  ...    0         0    8766    8766      8766     8766      8766   \n",
      "3         0  ...    0         0    8766    8766      8766     8766      8766   \n",
      "4         0  ...    0         0    8766    8766      8766     8766      8766   \n",
      "\n",
      "   TIMECVD  TIMEDTH  TIMEHYP  \n",
      "0     6438     8766     8766  \n",
      "1     6438     8766     8766  \n",
      "2     8766     8766     8766  \n",
      "3     8766     8766     8766  \n",
      "4     8766     8766     8766  \n",
      "\n",
      "[5 rows x 36 columns]\n"
     ]
    }
   ],
   "source": [
    "print(cleaned_df.head(5))"
   ]
  },
  {
   "cell_type": "code",
   "execution_count": 71,
   "id": "e98b5dda-ae6c-4eee-be3c-8615a126fe05",
   "metadata": {},
   "outputs": [],
   "source": [
    "# now we drop more columns that give outcome leakage; i.e. columns that give the model future predictions that \n",
    "# we wouldn't realistically have at the time of an actual prediction, such as whether a patient died during the study\n",
    "# also drop additional irrelevant columns\n",
    "target_col = 'ANYCHD'\n",
    "\n",
    "cols_to_drop = [\n",
    "    'RANDID',  # ID column\n",
    "    'TIME', 'PERIOD',  # timing variables\n",
    "    'DEATH', 'STROKE', 'CVD', 'HYPERTEN', 'MI_FCHD', 'HOSPMI', 'ANGINA',  # future outcomes\n",
    "    'TIMEAP', 'TIMEMI', 'TIMEMIFC', 'TIMECHD', 'TIMESTRK', 'TIMECVD', 'TIMEDTH', 'TIMEHYP'  # event times\n",
    "]\n",
    "\n",
    "cleaned_df_final = cleaned_df.drop(columns=cols_to_drop)"
   ]
  },
  {
   "cell_type": "code",
   "execution_count": 72,
   "id": "7de510f2-71d9-4c1d-9c2f-b48fd3fbe02d",
   "metadata": {},
   "outputs": [
    {
     "name": "stdout",
     "output_type": "stream",
     "text": [
      "Training set shape: (8134, 17)\n",
      "Test set shape: (3487, 17)\n",
      "Training labels shape: (8134,)\n",
      "Test labels shape: (3487,)\n"
     ]
    }
   ],
   "source": [
    "X = cleaned_df_final.drop(columns=[target_col])\n",
    "y = cleaned_df_final[target_col]\n",
    "\n",
    "# split into train test\n",
    "X_train, X_test, y_train, y_test = train_test_split(X, y, test_size=0.3, random_state=42, stratify=y)\n",
    "\n",
    "# feature scaling\n",
    "scaler = StandardScaler()\n",
    "X_train = scaler.fit_transform(X_train)\n",
    "X_test = scaler.transform(X_test)\n",
    "\n",
    "print(f\"Training set shape: {X_train.shape}\")\n",
    "print(f\"Test set shape: {X_test.shape}\")\n",
    "print(f\"Training labels shape: {y_train.shape}\")\n",
    "print(f\"Test labels shape: {y_test.shape}\")"
   ]
  },
  {
   "cell_type": "markdown",
   "id": "3bad92c1-c9ff-4281-a055-9ef028e69096",
   "metadata": {},
   "source": [
    "## Build the MLP"
   ]
  },
  {
   "cell_type": "code",
   "execution_count": 73,
   "id": "86ef3a51-7cf3-4060-b50b-e5559dd4d39d",
   "metadata": {},
   "outputs": [],
   "source": [
    "import numpy as np\n",
    "from sklearn.metrics import accuracy_score, precision_score, recall_score, f1_score\n",
    "\n",
    "# set random seed for reproducibility\n",
    "np.random.seed(42)\n",
    "\n",
    "# activation functions\n",
    "def sigmoid(z):\n",
    "    return 1 / (1 + np.exp(-z))\n",
    "\n",
    "def sigmoid_derivative(z):\n",
    "    s = sigmoid(z)\n",
    "    return s * (1 - s)\n",
    "\n",
    "def relu(z):\n",
    "    return np.maximum(0, z)\n",
    "\n",
    "def relu_derivative(z):\n",
    "    return (z > 0).astype(float)\n",
    "\n",
    "# initialize parameters\n",
    "def initialize_parameters(n_input, n_hidden, n_output):\n",
    "    W1 = np.random.randn(n_hidden, n_input) * 0.01\n",
    "    b1 = np.zeros((n_hidden, 1))\n",
    "    W2 = np.random.randn(n_output, n_hidden) * 0.01\n",
    "    b2 = np.zeros((n_output, 1))\n",
    "    return W1, b1, W2, b2\n"
   ]
  },
  {
   "cell_type": "code",
   "execution_count": 74,
   "id": "ad038af7-28f0-4e1a-b28f-43eb67266218",
   "metadata": {},
   "outputs": [],
   "source": [
    "def forward_pass(X, W1, b1, W2, b2):\n",
    "    Z1 = np.dot(W1, X.T) + b1\n",
    "    A1 = relu(Z1)\n",
    "    Z2 = np.dot(W2, A1) + b2\n",
    "    A2 = sigmoid(Z2)\n",
    "    return Z1, A1, Z2, A2\n",
    "\n",
    "\n",
    "def compute_loss(Y, A2):\n",
    "    m = Y.shape[0]\n",
    "    loss = -np.mean(Y * np.log(A2.T + 1e-8) + (1 - Y) * np.log(1 - A2.T + 1e-8))\n",
    "    return loss\n",
    "\n",
    "\n",
    "def backward_pass(X, Y, Z1, A1, A2, W2):\n",
    "    m = X.shape[0]\n",
    "    dZ2 = A2 - Y.reshape(1, -1)\n",
    "    dW2 = (1/m) * np.dot(dZ2, A1.T)\n",
    "    db2 = (1/m) * np.sum(dZ2, axis=1, keepdims=True)\n",
    "\n",
    "    dA1 = np.dot(W2.T, dZ2)\n",
    "    dZ1 = dA1 * relu_derivative(Z1)\n",
    "    dW1 = (1/m) * np.dot(dZ1, X)\n",
    "    db1 = (1/m) * np.sum(dZ1, axis=1, keepdims=True)\n",
    "\n",
    "    return dW1, db1, dW2, db2\n",
    "\n",
    "\n",
    "def update_parameters(W1, b1, W2, b2, dW1, db1, dW2, db2, lr):\n",
    "    W1 -= lr * dW1\n",
    "    b1 -= lr * db1\n",
    "    W2 -= lr * dW2\n",
    "    b2 -= lr * db2\n",
    "    return W1, b1, W2, b2\n",
    "\n",
    "\n"
   ]
  },
  {
   "cell_type": "code",
   "execution_count": 75,
   "id": "effedc98-823f-49af-b89c-d34d8d2390cc",
   "metadata": {},
   "outputs": [],
   "source": [
    "# now we train our MLP\n",
    "def train_mlp(X_train, y_train, n_hidden=10, epochs=1000, lr=0.01):\n",
    "    n_input = X_train.shape[1]\n",
    "    n_output = 1\n",
    "\n",
    "    W1, b1, W2, b2 = initialize_parameters(n_input, n_hidden, n_output)\n",
    "    loss_history = []\n",
    "\n",
    "    for epoch in range(epochs):\n",
    "        Z1, A1, Z2, A2 = forward_pass(X_train, W1, b1, W2, b2)\n",
    "        loss = compute_loss(y_train, A2)\n",
    "        loss_history.append(loss)\n",
    "        dW1, db1, dW2, db2 = backward_pass(X_train, y_train, Z1, A1, A2, W2)\n",
    "        W1, b1, W2, b2 = update_parameters(W1, b1, W2, b2, dW1, db1, dW2, db2, lr)\n",
    "\n",
    "        if epoch % 100 == 0 or epoch == epochs - 1:\n",
    "            print(f\"Epoch {epoch} - Loss: {loss:.4f}\")\n",
    "\n",
    "    return W1, b1, W2, b2, loss_history\n",
    "\n"
   ]
  },
  {
   "cell_type": "code",
   "execution_count": 76,
   "id": "1c4a7394-7d9d-4c3e-afb3-5dc50825eb4d",
   "metadata": {},
   "outputs": [],
   "source": [
    "# lets predict on our MLP\n",
    "# we use a threshold of 0.3 because the model is slightly biased towards the non-heart disease observations, as this\n",
    "# is the majority class\n",
    "def predict_with_threshold(X, W1, b1, W2, b2, threshold=0.5):  \n",
    "    _, _, _, A2 = forward_pass(X, W1, b1, W2, b2)\n",
    "    return (A2 > threshold).astype(int).flatten()\n"
   ]
  },
  {
   "cell_type": "code",
   "execution_count": 77,
   "id": "6b9cd822-e918-47f0-859f-71dce53fd94d",
   "metadata": {},
   "outputs": [],
   "source": [
    "from imblearn.over_sampling import SMOTE\n",
    "\n",
    "# convert data to numpy\n",
    "X_train_np = np.array(X_train)\n",
    "X_test_np = np.array(X_test)\n",
    "y_train_np = np.array(y_train)\n",
    "y_test_np = np.array(y_test)\n",
    "\n",
    "# apply SMOTE to balance the training data (currently only 27% of our target variable is value 1 (heart disease) while rest is 0, meaning \n",
    "# that our model is biased towards the 0 case\n",
    "# SMOTE will create synthetic examples of our 1 case\n",
    "# smote = SMOTE(random_state=42)\n",
    "# X_train_balanced, y_train_balanced = smote.fit_resample(X_train_np, y_train_np)\n",
    "\n",
    "# # check the new class distribution\n",
    "# unique, counts = np.unique(y_train_balanced, return_counts=True)\n",
    "# print(\"After SMOTE:\")\n",
    "# for u, c in zip(unique, counts):\n",
    "#     print(f\"Class {u}: {c} samples\")"
   ]
  },
  {
   "cell_type": "code",
   "execution_count": 78,
   "id": "75440a53-4f52-4ed7-a20f-82f56ef64cfc",
   "metadata": {},
   "outputs": [
    {
     "name": "stdout",
     "output_type": "stream",
     "text": [
      "Epoch 0 - Loss: 0.6933\n",
      "Epoch 100 - Loss: 0.6520\n",
      "Epoch 200 - Loss: 0.6269\n",
      "Epoch 300 - Loss: 0.6115\n",
      "Epoch 400 - Loss: 0.6019\n",
      "Epoch 500 - Loss: 0.5958\n",
      "Epoch 599 - Loss: 0.5920\n"
     ]
    }
   ],
   "source": [
    "# train MLP\n",
    "W1, b1, W2, b2, loss_history = train_mlp(X_train_np, y_train_np, n_hidden=10, epochs=600, lr=0.01)"
   ]
  },
  {
   "cell_type": "code",
   "execution_count": 79,
   "id": "c91e61d2-4da8-4dfa-b189-61a726be4a4e",
   "metadata": {},
   "outputs": [
    {
     "data": {
      "image/png": "[encoded data removed]",
      "text/plain": [
       "<Figure size 640x480 with 1 Axes>"
      ]
     },
     "metadata": {},
     "output_type": "display_data"
    },
    {
     "name": "stdout",
     "output_type": "stream",
     "text": [
      "Accuracy: 0.7284198451390881\n",
      "Precision: 0.0\n",
      "Recall: 0.0\n",
      "F1 Score: 0.0\n"
     ]
    },
    {
     "name": "stderr",
     "output_type": "stream",
     "text": [
      "/Library/Frameworks/Python.framework/Versions/3.12/lib/python3.12/site-packages/sklearn/metrics/_classification.py:1565: UndefinedMetricWarning: Precision is ill-defined and being set to 0.0 due to no predicted samples. Use `zero_division` parameter to control this behavior.\n",
      "  _warn_prf(average, modifier, f\"{metric.capitalize()} is\", len(result))\n"
     ]
    }
   ],
   "source": [
    "# plot the loss curve for our model\n",
    "import matplotlib.pyplot as plt\n",
    "\n",
    "plt.plot(loss_history)\n",
    "plt.xlabel('Epoch')\n",
    "plt.ylabel('Loss')\n",
    "plt.title('Training Loss over Time')\n",
    "plt.grid(True)\n",
    "plt.show()\n",
    "\n",
    "\n",
    "# lets evaluate our model\n",
    "y_pred = predict(X_test_np, W1, b1, W2, b2)\n",
    "\n",
    "print(\"Accuracy:\", accuracy_score(y_test_np, y_pred))\n",
    "# print(\"Precision:\", precision_score(y_test_np, y_pred))\n",
    "# print(\"Recall:\", recall_score(y_test_np, y_pred))\n",
    "# print(\"F1 Score:\", f1_score(y_test_np, y_pred))\n"
   ]
  },
  {
   "cell_type": "code",
   "execution_count": 80,
   "id": "7fde9b53-3c6b-4ae9-8670-03df5a43b26a",
   "metadata": {},
   "outputs": [],
   "source": [
    "# unique, counts = np.unique(y_train_np, return_counts=True)\n",
    "# print(\"Training Set Class Distribution:\")\n",
    "# for u, c in zip(unique, counts):\n",
    "#     print(f\"Class {u}: {c} samples\")"
   ]
  },
  {
   "cell_type": "code",
   "execution_count": null,
   "id": "3ffecd3e-0277-42dc-a138-033e066ccbf2",
   "metadata": {},
   "outputs": [],
   "source": []
  }
 ],
 "metadata": {
  "kernelspec": {
   "display_name": "Python 3 (ipykernel)",
   "language": "python",
   "name": "python3"
  },
  "language_info": {
   "codemirror_mode": {
    "name": "ipython",
    "version": 3
   },
   "file_extension": ".py",
   "mimetype": "text/x-python",
   "name": "python",
   "nbconvert_exporter": "python",
   "pygments_lexer": "ipython3",
   "version": "3.12.2"
  }
 },
 "nbformat": 4,
 "nbformat_minor": 5
}
